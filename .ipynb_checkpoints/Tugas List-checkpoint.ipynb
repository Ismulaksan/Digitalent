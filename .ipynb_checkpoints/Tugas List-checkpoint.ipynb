{
 "cells": [
  {
   "cell_type": "markdown",
   "metadata": {},
   "source": [
    "# LATIHAN 2\n",
    "\n",
    "Diberikan sekumpulan Nilai Random antara 0 sampai dengan 100 sebanyak 250 nilai. Buatlah program untuk melakukan hal berikut:\n",
    "\n",
    "   1. Tampilkan Angka Ganjil dari ke 250 nilai tersebut\n",
    "   2. Tampilkan berapa banyak yang mendapatkan nilai lebih dari 70\n",
    "   3. Tampilkan standar deviasi dari sekumpulan nilai tersebut\n",
    "   4. Tampilkan nilai maksimum dan minimum\n",
    "   5. Tampilkan modus dari sekumpulan nilai tersebut\n",
    "\n"
   ]
  },
  {
   "cell_type": "code",
   "execution_count": 1,
   "metadata": {},
   "outputs": [
    {
     "name": "stdout",
     "output_type": "stream",
     "text": [
      "[70, 9, 5, 85, 44, 26, 41, 66, 62, 4, 28, 5, 46, 27, 12, 85, 97, 69, 51, 60, 74, 44, 45, 17, 81, 77, 15, 70, 28, 24, 55, 5, 28, 62, 76, 58, 39, 29, 19, 89, 92, 42, 13, 93, 65, 18, 57, 82, 20, 90, 24, 36, 28, 63, 53, 68, 61, 10, 2, 15, 90, 46, 56, 73, 95, 73, 34, 8, 82, 83, 9, 51, 93, 50, 37, 85, 59, 33, 73, 60, 85, 46, 21, 61, 7, 40, 25, 13, 60, 69, 99, 33, 79, 41, 61, 32, 24, 7, 90, 65, 83, 98, 59, 27, 87, 39, 22, 88, 8, 1, 86, 27, 57, 35, 32, 56, 96, 91, 6, 76, 21, 49, 4, 14, 54, 75, 15, 83, 75, 61, 67, 85, 24, 40, 53, 31, 51, 93, 22, 25, 89, 49, 41, 66, 52, 44, 39, 71, 20, 5, 77, 23, 67, 82, 76, 33, 69, 92, 88, 96, 65, 55, 17, 76, 6, 77, 53, 44, 5, 37, 8, 3, 14, 43, 15, 59, 94, 17, 99, 89, 74, 11, 46, 89, 47, 79, 76, 38, 43, 60, 34, 81, 92, 62, 96, 54, 67, 32, 1, 98, 76, 86, 6, 81, 76, 62, 24, 18, 9, 42, 59, 51, 39, 6, 13, 44, 30, 9, 22, 96, 37, 15, 82, 51, 37, 15, 48, 89, 30, 48, 24, 8, 80, 61, 50, 62, 35, 3, 61, 11, 98, 6, 21, 15, 32, 92, 64, 2, 30, 27]\n"
     ]
    }
   ],
   "source": [
    "import random\n",
    "\n",
    "# GENERATE RANDOM\n",
    "nilai_tugas = []\n",
    "for i in range(250):\n",
    "    nilai_tugas.append(random.randrange(1,100,1))\n",
    "\n",
    "print(nilai_tugas)\n",
    "\n",
    "# TAMPILKAN:\n",
    "# ganjil\n",
    "# nilai > 70\n",
    "# standar deviasi\n",
    "# maksimum\n",
    "# minimum\n",
    "# modus"
   ]
  },
  {
   "cell_type": "markdown",
   "metadata": {},
   "source": [
    "# 1. Tampilkan Angka Ganjil dari ke 250 nilai tersebut"
   ]
  },
  {
   "cell_type": "code",
   "execution_count": 2,
   "metadata": {},
   "outputs": [
    {
     "name": "stdout",
     "output_type": "stream",
     "text": [
      "[9, 5, 85, 41, 5, 27, 85, 97, 69, 51, 45, 17, 81, 77, 15, 55, 5, 39, 29, 19, 89, 13, 93, 65, 57, 63, 53, 61, 15, 73, 95, 73, 83, 9, 51, 93, 37, 85, 59, 33, 73, 85, 21, 61, 7, 25, 13, 69, 99, 33, 79, 41, 61, 7, 65, 83, 59, 27, 87, 39, 1, 27, 57, 35, 91, 21, 49, 75, 15, 83, 75, 61, 67, 85, 53, 31, 51, 93, 25, 89, 49, 41, 39, 71, 5, 77, 23, 67, 33, 69, 65, 55, 17, 77, 53, 5, 37, 3, 43, 15, 59, 17, 99, 89, 11, 89, 47, 79, 43, 81, 67, 1, 81, 9, 59, 51, 39, 13, 9, 37, 15, 51, 37, 15, 89, 61, 35, 3, 61, 11, 21, 15, 27]\n"
     ]
    }
   ],
   "source": [
    "Bilangan_ganjil = []\n",
    "for n in nilai_tugas:\n",
    "    if n%2 != 0:\n",
    "        Bilangan_ganjil.append(n)\n",
    "\n",
    "print(Bilangan_ganjil)"
   ]
  },
  {
   "cell_type": "markdown",
   "metadata": {},
   "source": [
    "# 2. Tampilkan berapa banyak yang mendapatkan nilai lebih dari 70"
   ]
  },
  {
   "cell_type": "code",
   "execution_count": 3,
   "metadata": {},
   "outputs": [
    {
     "name": "stdout",
     "output_type": "stream",
     "text": [
      "nilai diatas 70 sebanyak = 69\n"
     ]
    }
   ],
   "source": [
    "Nilai_diatas_70 = []\n",
    "for n in nilai_tugas:\n",
    "    if n>70:\n",
    "        Nilai_diatas_70.append(n)\n",
    "print('nilai diatas 70 sebanyak =',len(Nilai_diatas_70))"
   ]
  },
  {
   "cell_type": "markdown",
   "metadata": {},
   "source": [
    "# 3. Tampilkan standar deviasi dari sekumpulan nilai tersebut"
   ]
  },
  {
   "cell_type": "code",
   "execution_count": 4,
   "metadata": {},
   "outputs": [
    {
     "name": "stdout",
     "output_type": "stream",
     "text": [
      "Standar Deviasi = 28.690893563881485\n"
     ]
    }
   ],
   "source": [
    "total = 0\n",
    "for n in nilai_tugas:\n",
    "    total += n\n",
    "rata = total / len(nilai_tugas)\n",
    "\n",
    "stdv = 0\n",
    "for n in nilai_tugas:\n",
    "    stdv += (n - rata)**(2)\n",
    "\n",
    "standar_deviasi = (stdv/(len(nilai_tugas)-1))**(0.5)\n",
    "print('Standar Deviasi =', standar_deviasi)"
   ]
  },
  {
   "cell_type": "markdown",
   "metadata": {},
   "source": [
    "# 4. Tampilkan nilai maksimum dan minimum"
   ]
  },
  {
   "cell_type": "code",
   "execution_count": 5,
   "metadata": {},
   "outputs": [
    {
     "name": "stdout",
     "output_type": "stream",
     "text": [
      "Nilai Maksimum= 99\n",
      "Nilai Minimum= 1\n"
     ]
    }
   ],
   "source": [
    "Maks = nilai_tugas[0]\n",
    "Min = nilai_tugas[0]\n",
    "for n in nilai_tugas:\n",
    "    if(n>Maks):\n",
    "        Maks = n\n",
    "    if(n<Min):\n",
    "        Min = n\n",
    "\n",
    "print('Nilai Maksimum=', Maks)\n",
    "print('Nilai Minimum=', Min)"
   ]
  },
  {
   "cell_type": "markdown",
   "metadata": {},
   "source": [
    "# 5. Tampilkan modus dari sekumpulan nilai tersebut"
   ]
  },
  {
   "cell_type": "code",
   "execution_count": 7,
   "metadata": {},
   "outputs": [
    {
     "name": "stdout",
     "output_type": "stream",
     "text": [
      "Nilai modus = 15 muncul = 7\n"
     ]
    }
   ],
   "source": [
    "modus=nilai_tugas[0]  \n",
    "\n",
    "jumlah=0\n",
    "for n in nilai_tugas:\n",
    "    if n==modus:\n",
    "        jumlah=jumlah+1\n",
    "\n",
    "for i in nilai_tugas:\n",
    "    jumlah_n=0\n",
    "    for j in nilai_tugas:\n",
    "        if i==j:\n",
    "            jumlah_n=jumlah_n+1\n",
    "            \n",
    "    if jumlah<jumlah_n:\n",
    "        modus=i\n",
    "        jumlah=jumlah_n\n",
    "print('Nilai modus =',nilai_modus,'muncul =',jumlah)"
   ]
  },
  {
   "cell_type": "code",
   "execution_count": null,
   "metadata": {},
   "outputs": [],
   "source": []
  }
 ],
 "metadata": {
  "kernelspec": {
   "display_name": "Python 3",
   "language": "python",
   "name": "python3"
  },
  "language_info": {
   "codemirror_mode": {
    "name": "ipython",
    "version": 3
   },
   "file_extension": ".py",
   "mimetype": "text/x-python",
   "name": "python",
   "nbconvert_exporter": "python",
   "pygments_lexer": "ipython3",
   "version": "3.7.0"
  }
 },
 "nbformat": 4,
 "nbformat_minor": 2
}
