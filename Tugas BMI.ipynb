{
 "cells": [
  {
   "cell_type": "code",
   "execution_count": 1,
   "metadata": {},
   "outputs": [
    {
     "name": "stdout",
     "output_type": "stream",
     "text": [
      "Input your height in centimeters: 167\n",
      "Input your weight in kilogram: 60\n",
      "Your BMI is  17.964071856287426 underweight.\n",
      "Done\n"
     ]
    }
   ],
   "source": [
    "Tinggi = int (input(\"Input your height in centimeters: \"))\n",
    "Berat = int (input(\"Input your weight in kilogram: \"))\n",
    "BMI = Berat/(Tinggi*2)*100\n",
    "\n",
    "if BMI < 15:\n",
    "    print(\"Your BMI is \", BMI, \"very severely underweight.\")\n",
    "elif BMI >= 15 and BMI <= 16:\n",
    "    print(\"Your BMI is \", BMI, \"severely underweight.\")\n",
    "elif BMI >= 16 and BMI <=18.5:\n",
    "    print(\"Your BMI is \", BMI, \"underweight.\")\n",
    "elif BMI >= 18.5 and BMI <=25:\n",
    "    print(\"Your BMI is \", BMI, \"normal/healtyweight.\")\n",
    "elif BMI >= 25 and BMI <=30:\n",
    "    print(\"Your BMI is \", BMI, \"overweight.\")\n",
    "elif BMI >= 30 and BMI <=35:\n",
    "    print(\"Your BMI is \", BMI, \"moderately obese.\")\n",
    "elif BMI >= 35 and BMI <= 40:\n",
    "    print(\"Your BMI is \", BMI, \"severely obese.\")\n",
    "elif BMI >40:\n",
    "    print(\"Your BMI is \", BMI, \"very severely obese.\")\n",
    "print(\"Done\")"
   ]
  },
  {
   "cell_type": "code",
   "execution_count": null,
   "metadata": {},
   "outputs": [],
   "source": []
  }
 ],
 "metadata": {
  "kernelspec": {
   "display_name": "Python 3",
   "language": "python",
   "name": "python3"
  },
  "language_info": {
   "codemirror_mode": {
    "name": "ipython",
    "version": 3
   },
   "file_extension": ".py",
   "mimetype": "text/x-python",
   "name": "python",
   "nbconvert_exporter": "python",
   "pygments_lexer": "ipython3",
   "version": "3.7.0"
  }
 },
 "nbformat": 4,
 "nbformat_minor": 2
}
